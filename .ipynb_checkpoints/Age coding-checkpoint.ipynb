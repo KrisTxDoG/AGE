{
 "cells": [
  {
   "cell_type": "code",
   "execution_count": 13,
   "metadata": {},
   "outputs": [
    {
     "name": "stdout",
     "output_type": "stream",
     "text": [
      "請問你有沒有開過車 ? 有\n",
      "請問你的年齡 ?34\n",
      "你通過測驗了\n"
     ]
    }
   ],
   "source": [
    "Drive = input ('請問你有沒有開過車 ? ')\n",
    "if Drive != '有' and Drive != '沒有':\n",
    "    print('只能輸入有或沒有！')\n",
    "    raise SystemExit\n",
    "    \n",
    "    \n",
    "age = input('請問你的年齡 ?')\n",
    "age = int(age)\n",
    "\n",
    "if  Drive == '有':\n",
    "    if age >= 18:\n",
    "        print('你通過測驗了')\n",
    "    else:\n",
    "        print('奇怪，你怎麼開過車')\n",
    "        \n",
    "elif Drive =='沒有':\n",
    "    if age>= 18:\n",
    "        print('你可以考駕照了啊，怎麼不考')\n",
    "    else:\n",
    "        print('很好，再過幾年你就可以考了')\n",
    "    \n",
    "else:\n",
    "    print('閉嘴拉，白痴')\n",
    "\n"
   ]
  },
  {
   "cell_type": "code",
   "execution_count": null,
   "metadata": {},
   "outputs": [],
   "source": []
  },
  {
   "cell_type": "code",
   "execution_count": null,
   "metadata": {},
   "outputs": [],
   "source": []
  }
 ],
 "metadata": {
  "kernelspec": {
   "display_name": "Python 3",
   "language": "python",
   "name": "python3"
  },
  "language_info": {
   "codemirror_mode": {
    "name": "ipython",
    "version": 3
   },
   "file_extension": ".py",
   "mimetype": "text/x-python",
   "name": "python",
   "nbconvert_exporter": "python",
   "pygments_lexer": "ipython3",
   "version": "3.8.3"
  }
 },
 "nbformat": 4,
 "nbformat_minor": 4
}
